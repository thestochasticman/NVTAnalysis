{
 "cells": [
  {
   "cell_type": "code",
   "execution_count": 2,
   "id": "3a859f81-c980-477c-b3b9-def0083a7d48",
   "metadata": {},
   "outputs": [],
   "source": [
    "from PaddockTS.Data.environmental import download_environmental_data\n",
    "from PaddockTS.query import Query\n",
    "from pandas import ExcelFile"
   ]
  },
  {
   "cell_type": "code",
   "execution_count": 3,
   "id": "f7480688-7701-4472-80c0-b40b5ace79fe",
   "metadata": {},
   "outputs": [],
   "source": [
    "xlsx = ExcelFile('/g/data/xe2/ya6227/NVTAnalysis/data/NVT.xlsx')\n",
    "df = xlsx.parse('Cereals')\n",
    "df_wheat = df[df['Crop.Name'] == 'Wheat']\n",
    "df_rockstar = df_wheat[df_wheat['VarietyDisplayName'] == 'RockStar']"
   ]
  },
  {
   "cell_type": "code",
   "execution_count": null,
   "id": "b7f1073a-c075-4a78-ad25-6025d134237f",
   "metadata": {},
   "outputs": [],
   "source": [
    "for idx, row in df_rockstar.iterrows():\n",
    "    query = Query(\n",
    "        lat=row['Trial GPS Lat'],\n",
    "        lon=row['Trial GPS Long'],\n",
    "        buffer=0.01,\n",
    "        start_time=row['SowingDate'].date(),\n",
    "        end_time=row['HarvestDate'].date(),\n",
    "        collections=['ga_s2am_ard_3', 'ga_s2bm_ard_3'],\n",
    "        bands=['nbart_blue'],\n",
    "        stub=f\"Wheat-Rockstar-{str(idx)}\",\n",
    "        tmp_dir='/g/data/xe2/ya6227/NVTAnalysis/data/DAESim',\n",
    "        out_dir='/g/data/xe2/ya6227/NVTAnalysis/data/DAESim'\n",
    "    )\n",
    "    download_environmental_data(query)\n",
    "    # break"
   ]
  },
  {
   "cell_type": "code",
   "execution_count": null,
   "id": "c5e296f0-ade6-4153-bbf6-4693f8837dce",
   "metadata": {},
   "outputs": [],
   "source": [
    "df_rockstar.columns"
   ]
  },
  {
   "cell_type": "code",
   "execution_count": null,
   "id": "7ced89e4-e8ed-4d3e-84f0-f403721de568",
   "metadata": {},
   "outputs": [],
   "source": [
    "df_rockstar"
   ]
  },
  {
   "cell_type": "code",
   "execution_count": 6,
   "id": "92e4b737-45f3-43b2-b863-332a2563880c",
   "metadata": {},
   "outputs": [
    {
     "data": {
      "text/plain": [
       "Index(['Year', 'Crop.Name', 'State', 'RegionName', 'SiteDescription',\n",
       "       'TrialCode', 'SeriesName', 'Company.Name', 'Orientation',\n",
       "       'Trial GPS Lat', 'Trial GPS Long', 'SowingDate', 'HarvestDate',\n",
       "       'Released', 'Abandoned', 'METInclude', 'StatusID', 'VarietyDisplayName',\n",
       "       'CropTypeName', 'Single Site Yield', 'Yield Mean', 'CV',\n",
       "       'Standard Error Difference', 'Standard Error', 'Weighting', 'F-value',\n",
       "       'Probability', 'Error Mean Squared', '1000 grain weight',\n",
       "       '% Cracked Grain in Screenings', 'Grain Brightness (Colour)',\n",
       "       'Grain Moisture Content', 'Protein',\n",
       "       'Retention (Screenings >2_5 mm sieve)', 'Screenings (<2_0mm sieve)',\n",
       "       'Screenings (<2_2mm sieve)', 'Screenings WA (<2_5mm sieve)',\n",
       "       'Test Weight'],\n",
       "      dtype='object')"
      ]
     },
     "execution_count": 6,
     "metadata": {},
     "output_type": "execute_result"
    }
   ],
   "source": [
    "df_rockstar.columns"
   ]
  },
  {
   "cell_type": "code",
   "execution_count": null,
   "id": "1cba9812-3943-4498-b723-91836c6372ca",
   "metadata": {},
   "outputs": [],
   "source": []
  }
 ],
 "metadata": {
  "kernelspec": {
   "display_name": "Python 3 (ipykernel)",
   "language": "python",
   "name": "python3"
  },
  "language_info": {
   "codemirror_mode": {
    "name": "ipython",
    "version": 3
   },
   "file_extension": ".py",
   "mimetype": "text/x-python",
   "name": "python",
   "nbconvert_exporter": "python",
   "pygments_lexer": "ipython3",
   "version": "3.10.18"
  }
 },
 "nbformat": 4,
 "nbformat_minor": 5
}
